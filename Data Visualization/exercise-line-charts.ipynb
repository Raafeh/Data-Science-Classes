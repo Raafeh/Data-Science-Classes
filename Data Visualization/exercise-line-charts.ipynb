{
 "cells": [
  {
   "cell_type": "markdown",
   "id": "19f672fb",
   "metadata": {
    "papermill": {
     "duration": 0.007014,
     "end_time": "2022-08-29T15:55:47.632870",
     "exception": false,
     "start_time": "2022-08-29T15:55:47.625856",
     "status": "completed"
    },
    "tags": []
   },
   "source": [
    "**This notebook is an exercise in the [Data Visualization](https://www.kaggle.com/learn/data-visualization) course.  You can reference the tutorial at [this link](https://www.kaggle.com/alexisbcook/line-charts).**\n",
    "\n",
    "---\n"
   ]
  },
  {
   "cell_type": "markdown",
   "id": "9bfdc1d1",
   "metadata": {
    "papermill": {
     "duration": 0.00531,
     "end_time": "2022-08-29T15:55:47.644026",
     "exception": false,
     "start_time": "2022-08-29T15:55:47.638716",
     "status": "completed"
    },
    "tags": []
   },
   "source": [
    "In this exercise, you will use your new knowledge to propose a solution to a real-world scenario. To succeed, you will need to import data into Python, answer questions using the data, and generate **line charts** to understand patterns in the data.\n",
    "\n",
    "## Scenario\n",
    "\n",
    "You have recently been hired to manage the museums in the City of Los Angeles. Your first project focuses on the four museums pictured in the images below.\n",
    "\n",
    "![ex1_museums](https://i.imgur.com/pFYL8J1.png)\n",
    "\n",
    "You will leverage data from the Los Angeles [Data Portal](https://data.lacity.org/) that tracks monthly visitors to each museum.  \n",
    "\n",
    "![ex1_xlsx](https://i.imgur.com/mGWYlym.png)\n",
    "\n",
    "## Setup\n",
    "\n",
    "Run the next cell to import and configure the Python libraries that you need to complete the exercise."
   ]
  },
  {
   "cell_type": "code",
   "execution_count": 1,
   "id": "4f1afa32",
   "metadata": {
    "execution": {
     "iopub.execute_input": "2022-08-29T15:55:47.658407Z",
     "iopub.status.busy": "2022-08-29T15:55:47.657147Z",
     "iopub.status.idle": "2022-08-29T15:55:48.954945Z",
     "shell.execute_reply": "2022-08-29T15:55:48.953310Z"
    },
    "papermill": {
     "duration": 1.308975,
     "end_time": "2022-08-29T15:55:48.958726",
     "exception": false,
     "start_time": "2022-08-29T15:55:47.649751",
     "status": "completed"
    },
    "tags": []
   },
   "outputs": [
    {
     "name": "stdout",
     "output_type": "stream",
     "text": [
      "Setup Complete\n"
     ]
    }
   ],
   "source": [
    "import pandas as pd\n",
    "pd.plotting.register_matplotlib_converters()\n",
    "import matplotlib.pyplot as plt\n",
    "%matplotlib inline\n",
    "import seaborn as sns\n",
    "print(\"Setup Complete\")"
   ]
  },
  {
   "cell_type": "markdown",
   "id": "19bde5a7",
   "metadata": {
    "papermill": {
     "duration": 0.010279,
     "end_time": "2022-08-29T15:55:48.982423",
     "exception": false,
     "start_time": "2022-08-29T15:55:48.972144",
     "status": "completed"
    },
    "tags": []
   },
   "source": [
    "The questions below will give you feedback on your work. Run the following cell to set up the feedback system."
   ]
  },
  {
   "cell_type": "code",
   "execution_count": 2,
   "id": "0d74abc9",
   "metadata": {
    "execution": {
     "iopub.execute_input": "2022-08-29T15:55:48.998415Z",
     "iopub.status.busy": "2022-08-29T15:55:48.997641Z",
     "iopub.status.idle": "2022-08-29T15:55:49.079834Z",
     "shell.execute_reply": "2022-08-29T15:55:49.078327Z"
    },
    "papermill": {
     "duration": 0.094094,
     "end_time": "2022-08-29T15:55:49.083877",
     "exception": false,
     "start_time": "2022-08-29T15:55:48.989783",
     "status": "completed"
    },
    "tags": []
   },
   "outputs": [
    {
     "name": "stdout",
     "output_type": "stream",
     "text": [
      "Setup Complete\n"
     ]
    }
   ],
   "source": [
    "# Set up code checking\n",
    "import os\n",
    "if not os.path.exists(\"../input/museum_visitors.csv\"):\n",
    "    os.symlink(\"../input/data-for-datavis/museum_visitors.csv\", \"../input/museum_visitors.csv\") \n",
    "from learntools.core import binder\n",
    "binder.bind(globals())\n",
    "from learntools.data_viz_to_coder.ex2 import *\n",
    "print(\"Setup Complete\")"
   ]
  },
  {
   "cell_type": "markdown",
   "id": "c5c72210",
   "metadata": {
    "papermill": {
     "duration": 0.005947,
     "end_time": "2022-08-29T15:55:49.096388",
     "exception": false,
     "start_time": "2022-08-29T15:55:49.090441",
     "status": "completed"
    },
    "tags": []
   },
   "source": [
    "## Step 1: Load the data\n",
    "\n",
    "Your first assignment is to read the LA Museum Visitors data file into `museum_data`.  Note that:\n",
    "- The filepath to the dataset is stored as `museum_filepath`.  Please **do not** change the provided value of the filepath.\n",
    "- The name of the column to use as row labels is `\"Date\"`.  (This can be seen in cell A1 when the file is opened in Excel.)\n",
    "\n",
    "To help with this, you may find it useful to revisit some relevant code from the tutorial, which we have pasted below:\n",
    "\n",
    "```python\n",
    "# Path of the file to read\n",
    "spotify_filepath = \"../input/spotify.csv\"\n",
    "\n",
    "# Read the file into a variable spotify_data\n",
    "spotify_data = pd.read_csv(spotify_filepath, index_col=\"Date\", parse_dates=True)\n",
    "```\n",
    "\n",
    "The code you need to write now looks very similar!"
   ]
  },
  {
   "cell_type": "code",
   "execution_count": 3,
   "id": "9f35dcec",
   "metadata": {
    "execution": {
     "iopub.execute_input": "2022-08-29T15:55:49.111425Z",
     "iopub.status.busy": "2022-08-29T15:55:49.110430Z",
     "iopub.status.idle": "2022-08-29T15:55:49.129722Z",
     "shell.execute_reply": "2022-08-29T15:55:49.128695Z"
    },
    "papermill": {
     "duration": 0.029633,
     "end_time": "2022-08-29T15:55:49.132434",
     "exception": false,
     "start_time": "2022-08-29T15:55:49.102801",
     "status": "completed"
    },
    "tags": []
   },
   "outputs": [
    {
     "data": {
      "application/javascript": [
       "parent.postMessage({\"jupyterEvent\": \"custom.exercise_interaction\", \"data\": {\"outcomeType\": 1, \"valueTowardsCompletion\": 0.3333333333333333, \"interactionType\": 1, \"questionType\": 1, \"questionId\": \"1_LoadMuseumData\", \"learnToolsVersion\": \"0.3.4\", \"failureMessage\": \"\", \"exceptionClass\": \"\", \"trace\": \"\"}}, \"*\")"
      ],
      "text/plain": [
       "<IPython.core.display.Javascript object>"
      ]
     },
     "metadata": {},
     "output_type": "display_data"
    },
    {
     "data": {
      "text/markdown": [
       "<span style=\"color:#33cc33\">Correct</span>"
      ],
      "text/plain": [
       "Correct"
      ]
     },
     "metadata": {},
     "output_type": "display_data"
    }
   ],
   "source": [
    "# Path of the file to read\n",
    "museum_filepath = \"../input/museum_visitors.csv\"\n",
    "\n",
    "# Fill in the line below to read the file into a variable museum_data\n",
    "museum_data = pd.read_csv(museum_filepath, index_col='Date',parse_dates=True)\n",
    "\n",
    "# Run the line below with no changes to check that you've loaded the data correctly\n",
    "step_1.check()"
   ]
  },
  {
   "cell_type": "code",
   "execution_count": 4,
   "id": "457b7270",
   "metadata": {
    "execution": {
     "iopub.execute_input": "2022-08-29T15:55:49.148553Z",
     "iopub.status.busy": "2022-08-29T15:55:49.147650Z",
     "iopub.status.idle": "2022-08-29T15:55:49.153807Z",
     "shell.execute_reply": "2022-08-29T15:55:49.152669Z"
    },
    "papermill": {
     "duration": 0.018151,
     "end_time": "2022-08-29T15:55:49.157101",
     "exception": false,
     "start_time": "2022-08-29T15:55:49.138950",
     "status": "completed"
    },
    "tags": []
   },
   "outputs": [],
   "source": [
    "# Uncomment the line below to receive a hint\n",
    "#step_1.hint()\n",
    "# Uncomment the line below to see the solution\n",
    "#step_1.solution()"
   ]
  },
  {
   "cell_type": "markdown",
   "id": "4bca4f44",
   "metadata": {
    "papermill": {
     "duration": 0.006549,
     "end_time": "2022-08-29T15:55:49.170449",
     "exception": false,
     "start_time": "2022-08-29T15:55:49.163900",
     "status": "completed"
    },
    "tags": []
   },
   "source": [
    "## Step 2: Review the data\n",
    "\n",
    "Use a Python command to print the last 5 rows of the data."
   ]
  },
  {
   "cell_type": "code",
   "execution_count": 5,
   "id": "ee06a66a",
   "metadata": {
    "execution": {
     "iopub.execute_input": "2022-08-29T15:55:49.186723Z",
     "iopub.status.busy": "2022-08-29T15:55:49.186061Z",
     "iopub.status.idle": "2022-08-29T15:55:49.205608Z",
     "shell.execute_reply": "2022-08-29T15:55:49.204028Z"
    },
    "papermill": {
     "duration": 0.031094,
     "end_time": "2022-08-29T15:55:49.208369",
     "exception": false,
     "start_time": "2022-08-29T15:55:49.177275",
     "status": "completed"
    },
    "tags": []
   },
   "outputs": [
    {
     "data": {
      "text/html": [
       "<div>\n",
       "<style scoped>\n",
       "    .dataframe tbody tr th:only-of-type {\n",
       "        vertical-align: middle;\n",
       "    }\n",
       "\n",
       "    .dataframe tbody tr th {\n",
       "        vertical-align: top;\n",
       "    }\n",
       "\n",
       "    .dataframe thead th {\n",
       "        text-align: right;\n",
       "    }\n",
       "</style>\n",
       "<table border=\"1\" class=\"dataframe\">\n",
       "  <thead>\n",
       "    <tr style=\"text-align: right;\">\n",
       "      <th></th>\n",
       "      <th>Avila Adobe</th>\n",
       "      <th>Firehouse Museum</th>\n",
       "      <th>Chinese American Museum</th>\n",
       "      <th>America Tropical Interpretive Center</th>\n",
       "    </tr>\n",
       "    <tr>\n",
       "      <th>Date</th>\n",
       "      <th></th>\n",
       "      <th></th>\n",
       "      <th></th>\n",
       "      <th></th>\n",
       "    </tr>\n",
       "  </thead>\n",
       "  <tbody>\n",
       "    <tr>\n",
       "      <th>2014-01-01</th>\n",
       "      <td>24778</td>\n",
       "      <td>4486</td>\n",
       "      <td>1581</td>\n",
       "      <td>6602</td>\n",
       "    </tr>\n",
       "    <tr>\n",
       "      <th>2014-02-01</th>\n",
       "      <td>18976</td>\n",
       "      <td>4172</td>\n",
       "      <td>1785</td>\n",
       "      <td>5029</td>\n",
       "    </tr>\n",
       "    <tr>\n",
       "      <th>2014-03-01</th>\n",
       "      <td>25231</td>\n",
       "      <td>7082</td>\n",
       "      <td>3229</td>\n",
       "      <td>8129</td>\n",
       "    </tr>\n",
       "    <tr>\n",
       "      <th>2014-04-01</th>\n",
       "      <td>26989</td>\n",
       "      <td>6756</td>\n",
       "      <td>2129</td>\n",
       "      <td>2824</td>\n",
       "    </tr>\n",
       "    <tr>\n",
       "      <th>2014-05-01</th>\n",
       "      <td>36883</td>\n",
       "      <td>10858</td>\n",
       "      <td>3676</td>\n",
       "      <td>10694</td>\n",
       "    </tr>\n",
       "  </tbody>\n",
       "</table>\n",
       "</div>"
      ],
      "text/plain": [
       "            Avila Adobe  Firehouse Museum  Chinese American Museum  \\\n",
       "Date                                                                 \n",
       "2014-01-01        24778              4486                     1581   \n",
       "2014-02-01        18976              4172                     1785   \n",
       "2014-03-01        25231              7082                     3229   \n",
       "2014-04-01        26989              6756                     2129   \n",
       "2014-05-01        36883             10858                     3676   \n",
       "\n",
       "            America Tropical Interpretive Center  \n",
       "Date                                              \n",
       "2014-01-01                                  6602  \n",
       "2014-02-01                                  5029  \n",
       "2014-03-01                                  8129  \n",
       "2014-04-01                                  2824  \n",
       "2014-05-01                                 10694  "
      ]
     },
     "execution_count": 5,
     "metadata": {},
     "output_type": "execute_result"
    }
   ],
   "source": [
    "# Print the last five rows of the data \n",
    "museum_data.head() # Your code here"
   ]
  },
  {
   "cell_type": "markdown",
   "id": "d9d990be",
   "metadata": {
    "papermill": {
     "duration": 0.006713,
     "end_time": "2022-08-29T15:55:49.221933",
     "exception": false,
     "start_time": "2022-08-29T15:55:49.215220",
     "status": "completed"
    },
    "tags": []
   },
   "source": [
    "The last row (for `2018-11-01`) tracks the number of visitors to each museum in November 2018, the next-to-last row (for `2018-10-01`) tracks the number of visitors to each museum in October 2018, _and so on_.\n",
    "\n",
    "Use the last 5 rows of the data to answer the questions below."
   ]
  },
  {
   "cell_type": "code",
   "execution_count": 6,
   "id": "5bcf329b",
   "metadata": {
    "execution": {
     "iopub.execute_input": "2022-08-29T15:55:49.238316Z",
     "iopub.status.busy": "2022-08-29T15:55:49.237464Z",
     "iopub.status.idle": "2022-08-29T15:55:49.250091Z",
     "shell.execute_reply": "2022-08-29T15:55:49.248681Z"
    },
    "papermill": {
     "duration": 0.023576,
     "end_time": "2022-08-29T15:55:49.252922",
     "exception": false,
     "start_time": "2022-08-29T15:55:49.229346",
     "status": "completed"
    },
    "tags": []
   },
   "outputs": [
    {
     "data": {
      "text/html": [
       "<div>\n",
       "<style scoped>\n",
       "    .dataframe tbody tr th:only-of-type {\n",
       "        vertical-align: middle;\n",
       "    }\n",
       "\n",
       "    .dataframe tbody tr th {\n",
       "        vertical-align: top;\n",
       "    }\n",
       "\n",
       "    .dataframe thead th {\n",
       "        text-align: right;\n",
       "    }\n",
       "</style>\n",
       "<table border=\"1\" class=\"dataframe\">\n",
       "  <thead>\n",
       "    <tr style=\"text-align: right;\">\n",
       "      <th></th>\n",
       "      <th>Avila Adobe</th>\n",
       "      <th>Firehouse Museum</th>\n",
       "      <th>Chinese American Museum</th>\n",
       "      <th>America Tropical Interpretive Center</th>\n",
       "    </tr>\n",
       "    <tr>\n",
       "      <th>Date</th>\n",
       "      <th></th>\n",
       "      <th></th>\n",
       "      <th></th>\n",
       "      <th></th>\n",
       "    </tr>\n",
       "  </thead>\n",
       "  <tbody>\n",
       "    <tr>\n",
       "      <th>2018-07-01</th>\n",
       "      <td>23136</td>\n",
       "      <td>4191</td>\n",
       "      <td>2620</td>\n",
       "      <td>4718</td>\n",
       "    </tr>\n",
       "    <tr>\n",
       "      <th>2018-08-01</th>\n",
       "      <td>20815</td>\n",
       "      <td>4866</td>\n",
       "      <td>2409</td>\n",
       "      <td>3891</td>\n",
       "    </tr>\n",
       "    <tr>\n",
       "      <th>2018-09-01</th>\n",
       "      <td>21020</td>\n",
       "      <td>4956</td>\n",
       "      <td>2146</td>\n",
       "      <td>3180</td>\n",
       "    </tr>\n",
       "    <tr>\n",
       "      <th>2018-10-01</th>\n",
       "      <td>19280</td>\n",
       "      <td>4622</td>\n",
       "      <td>2364</td>\n",
       "      <td>3775</td>\n",
       "    </tr>\n",
       "    <tr>\n",
       "      <th>2018-11-01</th>\n",
       "      <td>17163</td>\n",
       "      <td>4082</td>\n",
       "      <td>2385</td>\n",
       "      <td>4562</td>\n",
       "    </tr>\n",
       "  </tbody>\n",
       "</table>\n",
       "</div>"
      ],
      "text/plain": [
       "            Avila Adobe  Firehouse Museum  Chinese American Museum  \\\n",
       "Date                                                                 \n",
       "2018-07-01        23136              4191                     2620   \n",
       "2018-08-01        20815              4866                     2409   \n",
       "2018-09-01        21020              4956                     2146   \n",
       "2018-10-01        19280              4622                     2364   \n",
       "2018-11-01        17163              4082                     2385   \n",
       "\n",
       "            America Tropical Interpretive Center  \n",
       "Date                                              \n",
       "2018-07-01                                  4718  \n",
       "2018-08-01                                  3891  \n",
       "2018-09-01                                  3180  \n",
       "2018-10-01                                  3775  \n",
       "2018-11-01                                  4562  "
      ]
     },
     "execution_count": 6,
     "metadata": {},
     "output_type": "execute_result"
    }
   ],
   "source": [
    "museum_data.tail()\n",
    "#museum_data['Firehouse Museum'].tail()"
   ]
  },
  {
   "cell_type": "code",
   "execution_count": 7,
   "id": "595914de",
   "metadata": {
    "execution": {
     "iopub.execute_input": "2022-08-29T15:55:49.268724Z",
     "iopub.status.busy": "2022-08-29T15:55:49.268266Z",
     "iopub.status.idle": "2022-08-29T15:55:49.277062Z",
     "shell.execute_reply": "2022-08-29T15:55:49.276162Z"
    },
    "papermill": {
     "duration": 0.019898,
     "end_time": "2022-08-29T15:55:49.279509",
     "exception": false,
     "start_time": "2022-08-29T15:55:49.259611",
     "status": "completed"
    },
    "tags": []
   },
   "outputs": [
    {
     "data": {
      "application/javascript": [
       "parent.postMessage({\"jupyterEvent\": \"custom.exercise_interaction\", \"data\": {\"outcomeType\": 1, \"valueTowardsCompletion\": 0.3333333333333333, \"interactionType\": 1, \"questionType\": 1, \"questionId\": \"2_ReviewData\", \"learnToolsVersion\": \"0.3.4\", \"failureMessage\": \"\", \"exceptionClass\": \"\", \"trace\": \"\"}}, \"*\")"
      ],
      "text/plain": [
       "<IPython.core.display.Javascript object>"
      ]
     },
     "metadata": {},
     "output_type": "display_data"
    },
    {
     "data": {
      "text/markdown": [
       "<span style=\"color:#33cc33\">Correct</span>"
      ],
      "text/plain": [
       "Correct"
      ]
     },
     "metadata": {},
     "output_type": "display_data"
    }
   ],
   "source": [
    "# Fill in the line below: How many visitors did the Chinese American Museum \n",
    "# receive in July 2018?\n",
    "ca_museum_jul18 = 2620 \n",
    "\n",
    "# Fill in the line below: In October 2018, how many more visitors did Avila \n",
    "# Adobe receive than the Firehouse Museum?\n",
    "avila_oct18 = 19280-4622\n",
    "\n",
    "# Check your answers\n",
    "step_2.check()"
   ]
  },
  {
   "cell_type": "code",
   "execution_count": 8,
   "id": "c5dc876b",
   "metadata": {
    "execution": {
     "iopub.execute_input": "2022-08-29T15:55:49.295868Z",
     "iopub.status.busy": "2022-08-29T15:55:49.295395Z",
     "iopub.status.idle": "2022-08-29T15:55:49.306117Z",
     "shell.execute_reply": "2022-08-29T15:55:49.305280Z"
    },
    "papermill": {
     "duration": 0.021013,
     "end_time": "2022-08-29T15:55:49.308204",
     "exception": false,
     "start_time": "2022-08-29T15:55:49.287191",
     "status": "completed"
    },
    "tags": []
   },
   "outputs": [
    {
     "data": {
      "application/javascript": [
       "parent.postMessage({\"jupyterEvent\": \"custom.exercise_interaction\", \"data\": {\"interactionType\": 2, \"questionType\": 1, \"questionId\": \"2_ReviewData\", \"learnToolsVersion\": \"0.3.4\", \"valueTowardsCompletion\": 0.0, \"failureMessage\": \"\", \"exceptionClass\": \"\", \"trace\": \"\", \"outcomeType\": 4}}, \"*\")"
      ],
      "text/plain": [
       "<IPython.core.display.Javascript object>"
      ]
     },
     "metadata": {},
     "output_type": "display_data"
    },
    {
     "data": {
      "text/markdown": [
       "<span style=\"color:#3366cc\">Hint:</span> Use the `tail()` command that you learned about in the tutorial to print the last five rows. **After printing the last five rows**, the number of visitors in July 2018 for each museum can be found in the row marked `2018-07-01`, and the number of visitors in October 2018 for each museum can be found in the row marked `2018-10-01`."
      ],
      "text/plain": [
       "Hint: Use the `tail()` command that you learned about in the tutorial to print the last five rows. **After printing the last five rows**, the number of visitors in July 2018 for each museum can be found in the row marked `2018-07-01`, and the number of visitors in October 2018 for each museum can be found in the row marked `2018-10-01`."
      ]
     },
     "metadata": {},
     "output_type": "display_data"
    },
    {
     "data": {
      "application/javascript": [
       "parent.postMessage({\"jupyterEvent\": \"custom.exercise_interaction\", \"data\": {\"interactionType\": 3, \"questionType\": 1, \"questionId\": \"2_ReviewData\", \"learnToolsVersion\": \"0.3.4\", \"valueTowardsCompletion\": 0.0, \"failureMessage\": \"\", \"exceptionClass\": \"\", \"trace\": \"\", \"outcomeType\": 4}}, \"*\")"
      ],
      "text/plain": [
       "<IPython.core.display.Javascript object>"
      ]
     },
     "metadata": {},
     "output_type": "display_data"
    },
    {
     "data": {
      "text/markdown": [
       "<span style=\"color:#33cc99\">Solution:</span> \n",
       "```python\n",
       "# Print the last five rows of the data\n",
       "museum_data.tail()\n",
       "# How many visitors did the Chinese American Museum \n",
       "# receive in July 2018? \n",
       "ca_museum_jul18 = 2620\n",
       "# In October 2018, how many more visitors did Avila \n",
       "# Adobe receive than the Firehouse Museum?\n",
       "avila_oct18 = 14658\n",
       "\n",
       "```"
      ],
      "text/plain": [
       "Solution: \n",
       "```python\n",
       "# Print the last five rows of the data\n",
       "museum_data.tail()\n",
       "# How many visitors did the Chinese American Museum \n",
       "# receive in July 2018? \n",
       "ca_museum_jul18 = 2620\n",
       "# In October 2018, how many more visitors did Avila \n",
       "# Adobe receive than the Firehouse Museum?\n",
       "avila_oct18 = 14658\n",
       "\n",
       "```"
      ]
     },
     "metadata": {},
     "output_type": "display_data"
    }
   ],
   "source": [
    "# Lines below will give you a hint or solution code\n",
    "step_2.hint()\n",
    "step_2.solution()"
   ]
  },
  {
   "cell_type": "markdown",
   "id": "9b48abcd",
   "metadata": {
    "papermill": {
     "duration": 0.006926,
     "end_time": "2022-08-29T15:55:49.322685",
     "exception": false,
     "start_time": "2022-08-29T15:55:49.315759",
     "status": "completed"
    },
    "tags": []
   },
   "source": [
    "## Step 3: Convince the museum board \n",
    "\n",
    "The Firehouse Museum claims they ran an event in 2014 that brought an incredible number of visitors, and that they should get extra budget to run a similar event again.  The other museums think these types of events aren't that important, and budgets should be split purely based on recent visitors on an average day.  \n",
    "\n",
    "To show the museum board how the event compared to regular traffic at each museum, create a line chart that shows how the number of visitors to each museum evolved over time.  Your figure should have four lines (one for each museum).\n",
    "\n",
    "> **(Optional) Note**: If you have some prior experience with plotting figures in Python, you might be familiar with the `plt.show()` command.  If you decide to use this command, please place it **after** the line of code that checks your answer (in this case, place it after `step_3.check()` below) -- otherwise, the checking code will return an error!"
   ]
  },
  {
   "cell_type": "code",
   "execution_count": 9,
   "id": "3dabcfaa",
   "metadata": {
    "execution": {
     "iopub.execute_input": "2022-08-29T15:55:49.339708Z",
     "iopub.status.busy": "2022-08-29T15:55:49.338879Z",
     "iopub.status.idle": "2022-08-29T15:55:49.822644Z",
     "shell.execute_reply": "2022-08-29T15:55:49.821627Z"
    },
    "papermill": {
     "duration": 0.495314,
     "end_time": "2022-08-29T15:55:49.825278",
     "exception": false,
     "start_time": "2022-08-29T15:55:49.329964",
     "status": "completed"
    },
    "tags": []
   },
   "outputs": [
    {
     "data": {
      "application/javascript": [
       "parent.postMessage({\"jupyterEvent\": \"custom.exercise_interaction\", \"data\": {\"outcomeType\": 1, \"valueTowardsCompletion\": 0.3333333333333333, \"interactionType\": 1, \"questionType\": 2, \"questionId\": \"3_PlotAll\", \"learnToolsVersion\": \"0.3.4\", \"failureMessage\": \"\", \"exceptionClass\": \"\", \"trace\": \"\"}}, \"*\")"
      ],
      "text/plain": [
       "<IPython.core.display.Javascript object>"
      ]
     },
     "metadata": {},
     "output_type": "display_data"
    },
    {
     "data": {
      "text/markdown": [
       "<span style=\"color:#33cc33\">Correct</span>"
      ],
      "text/plain": [
       "Correct"
      ]
     },
     "metadata": {},
     "output_type": "display_data"
    },
    {
     "data": {
      "image/png": "[encoded data removed]",
      "text/plain": [
       "<Figure size 1080x360 with 1 Axes>"
      ]
     },
     "metadata": {
      "needs_background": "light"
     },
     "output_type": "display_data"
    }
   ],
   "source": [
    "# Line chart showing the number of visitors to each museum over time\n",
    "plt.figure(figsize=(15,5))\n",
    "sns.lineplot(data=museum_data)\n",
    "# Your code here\n",
    "\n",
    "# Check your answer\n",
    "step_3.check()"
   ]
  },
  {
   "cell_type": "code",
   "execution_count": 10,
   "id": "ddc29cff",
   "metadata": {
    "execution": {
     "iopub.execute_input": "2022-08-29T15:55:49.846606Z",
     "iopub.status.busy": "2022-08-29T15:55:49.845869Z",
     "iopub.status.idle": "2022-08-29T15:55:49.853611Z",
     "shell.execute_reply": "2022-08-29T15:55:49.852627Z"
    },
    "papermill": {
     "duration": 0.022194,
     "end_time": "2022-08-29T15:55:49.856170",
     "exception": false,
     "start_time": "2022-08-29T15:55:49.833976",
     "status": "completed"
    },
    "tags": []
   },
   "outputs": [
    {
     "data": {
      "application/javascript": [
       "parent.postMessage({\"jupyterEvent\": \"custom.exercise_interaction\", \"data\": {\"interactionType\": 2, \"questionType\": 2, \"questionId\": \"3_PlotAll\", \"learnToolsVersion\": \"0.3.4\", \"valueTowardsCompletion\": 0.0, \"failureMessage\": \"\", \"exceptionClass\": \"\", \"trace\": \"\", \"outcomeType\": 4}}, \"*\")"
      ],
      "text/plain": [
       "<IPython.core.display.Javascript object>"
      ]
     },
     "metadata": {},
     "output_type": "display_data"
    },
    {
     "data": {
      "text/markdown": [
       "<span style=\"color:#3366cc\">Hint:</span> Use `sns.lineplot`, and plot one line for each museum in `museum_data`. (_You can do this in a single line of code!_)"
      ],
      "text/plain": [
       "Hint: Use `sns.lineplot`, and plot one line for each museum in `museum_data`. (_You can do this in a single line of code!_)"
      ]
     },
     "metadata": {},
     "output_type": "display_data"
    }
   ],
   "source": [
    "# Lines below will give you a hint or solution code\n",
    "step_3.hint()\n",
    "#step_3.solution_plot()"
   ]
  },
  {
   "cell_type": "markdown",
   "id": "339fd249",
   "metadata": {
    "papermill": {
     "duration": 0.008617,
     "end_time": "2022-08-29T15:55:49.874414",
     "exception": false,
     "start_time": "2022-08-29T15:55:49.865797",
     "status": "completed"
    },
    "tags": []
   },
   "source": [
    "## Step 4: Assess seasonality\n",
    "\n",
    "When meeting with the employees at Avila Adobe, you hear that one major pain point is that the number of museum visitors varies greatly with the seasons, with low seasons (when the employees are perfectly staffed and happy) and also high seasons (when the employees are understaffed and stressed).  You realize that if you can predict these high and low seasons, you can plan ahead to hire some additional seasonal employees to help out with the extra work.\n",
    "\n",
    "#### Part A\n",
    "Create a line chart that shows how the number of visitors to Avila Adobe has evolved over time.  (_If your code returns an error, the first thing that you should check is that you've spelled the name of the column correctly!  You must write the name of the column exactly as it appears in the dataset._)"
   ]
  },
  {
   "cell_type": "code",
   "execution_count": 11,
   "id": "da64df55",
   "metadata": {
    "execution": {
     "iopub.execute_input": "2022-08-29T15:55:49.894922Z",
     "iopub.status.busy": "2022-08-29T15:55:49.894274Z",
     "iopub.status.idle": "2022-08-29T15:55:50.192827Z",
     "shell.execute_reply": "2022-08-29T15:55:50.191272Z"
    },
    "papermill": {
     "duration": 0.31171,
     "end_time": "2022-08-29T15:55:50.195621",
     "exception": false,
     "start_time": "2022-08-29T15:55:49.883911",
     "status": "completed"
    },
    "tags": []
   },
   "outputs": [
    {
     "name": "stdout",
     "output_type": "stream",
     "text": [
      "Thank you for creating a line chart!  To see how your code compares to the official solution, please use the code cell below.\n"
     ]
    },
    {
     "data": {
      "application/javascript": [
       "parent.postMessage({\"jupyterEvent\": \"custom.exercise_interaction\", \"data\": {\"outcomeType\": 1, \"valueTowardsCompletion\": 0.3333333333333333, \"interactionType\": 1, \"questionType\": 2, \"questionId\": \"4.1_PlotAvila\", \"learnToolsVersion\": \"0.3.4\", \"failureMessage\": \"\", \"exceptionClass\": \"\", \"trace\": \"\"}}, \"*\")"
      ],
      "text/plain": [
       "<IPython.core.display.Javascript object>"
      ]
     },
     "metadata": {},
     "output_type": "display_data"
    },
    {
     "data": {
      "text/markdown": [
       "<span style=\"color:#33cc33\">Correct</span>"
      ],
      "text/plain": [
       "Correct"
      ]
     },
     "metadata": {},
     "output_type": "display_data"
    },
    {
     "data": {
      "image/png": "[encoded data removed]",
      "text/plain": [
       "<Figure size 1080x360 with 1 Axes>"
      ]
     },
     "metadata": {
      "needs_background": "light"
     },
     "output_type": "display_data"
    }
   ],
   "source": [
    "# Line plot showing the number of visitors to Avila Adobe over time\n",
    "plt.figure(figsize=(15,5))\n",
    "sns.lineplot(data=museum_data['Avila Adobe']) # Your code here\n",
    "\n",
    "# Check your answer\n",
    "step_4.a.check()"
   ]
  },
  {
   "cell_type": "code",
   "execution_count": 12,
   "id": "ffd75bfc",
   "metadata": {
    "execution": {
     "iopub.execute_input": "2022-08-29T15:55:50.218303Z",
     "iopub.status.busy": "2022-08-29T15:55:50.217866Z",
     "iopub.status.idle": "2022-08-29T15:55:50.524084Z",
     "shell.execute_reply": "2022-08-29T15:55:50.522615Z"
    },
    "papermill": {
     "duration": 0.321747,
     "end_time": "2022-08-29T15:55:50.527854",
     "exception": false,
     "start_time": "2022-08-29T15:55:50.206107",
     "status": "completed"
    },
    "tags": []
   },
   "outputs": [
    {
     "data": {
      "application/javascript": [
       "parent.postMessage({\"jupyterEvent\": \"custom.exercise_interaction\", \"data\": {\"interactionType\": 3, \"questionType\": 2, \"questionId\": \"4.1_PlotAvila\", \"learnToolsVersion\": \"0.3.4\", \"valueTowardsCompletion\": 0.0, \"failureMessage\": \"\", \"exceptionClass\": \"\", \"trace\": \"\", \"outcomeType\": 4}}, \"*\")"
      ],
      "text/plain": [
       "<IPython.core.display.Javascript object>"
      ]
     },
     "metadata": {},
     "output_type": "display_data"
    },
    {
     "data": {
      "text/markdown": [
       "<span style=\"color:#33cc99\">Solution:</span> \n",
       "```python\n",
       "# Set the width and height of the figure\n",
       "plt.figure(figsize=(12,6))\n",
       "# Add title\n",
       "plt.title(\"Monthly Visitors to Avila Adobe\")\n",
       "# Line chart showing the number of visitors to Avila Adobe over time\n",
       "sns.lineplot(data=museum_data['Avila Adobe'])\n",
       "# Add label for horizontal axis\n",
       "plt.xlabel(\"Date\")\n",
       "\n",
       "```"
      ],
      "text/plain": [
       "Solution: \n",
       "```python\n",
       "# Set the width and height of the figure\n",
       "plt.figure(figsize=(12,6))\n",
       "# Add title\n",
       "plt.title(\"Monthly Visitors to Avila Adobe\")\n",
       "# Line chart showing the number of visitors to Avila Adobe over time\n",
       "sns.lineplot(data=museum_data['Avila Adobe'])\n",
       "# Add label for horizontal axis\n",
       "plt.xlabel(\"Date\")\n",
       "\n",
       "```"
      ]
     },
     "metadata": {},
     "output_type": "display_data"
    },
    {
     "data": {
      "image/png": "[encoded data removed]",
      "text/plain": [
       "<Figure size 864x432 with 1 Axes>"
      ]
     },
     "metadata": {
      "needs_background": "light"
     },
     "output_type": "display_data"
    }
   ],
   "source": [
    "# Lines below will give you a hint or solution code\n",
    "#step_4.a.hint()\n",
    "step_4.a.solution_plot()"
   ]
  },
  {
   "cell_type": "markdown",
   "id": "e756677d",
   "metadata": {
    "papermill": {
     "duration": 0.010621,
     "end_time": "2022-08-29T15:55:50.550338",
     "exception": false,
     "start_time": "2022-08-29T15:55:50.539717",
     "status": "completed"
    },
    "tags": []
   },
   "source": [
    "#### Part B\n",
    "\n",
    "Does Avila Adobe get more visitors:\n",
    "- in September-February (in LA, the fall and winter months), or \n",
    "- in March-August (in LA, the spring and summer)?  \n",
    "\n",
    "Using this information, when should the museum staff additional seasonal employees?"
   ]
  },
  {
   "cell_type": "code",
   "execution_count": 13,
   "id": "0eba49b1",
   "metadata": {
    "execution": {
     "iopub.execute_input": "2022-08-29T15:55:50.573871Z",
     "iopub.status.busy": "2022-08-29T15:55:50.573419Z",
     "iopub.status.idle": "2022-08-29T15:55:50.577804Z",
     "shell.execute_reply": "2022-08-29T15:55:50.576894Z"
    },
    "papermill": {
     "duration": 0.018798,
     "end_time": "2022-08-29T15:55:50.580037",
     "exception": false,
     "start_time": "2022-08-29T15:55:50.561239",
     "status": "completed"
    },
    "tags": []
   },
   "outputs": [],
   "source": [
    "#step_4.b.hint()"
   ]
  },
  {
   "cell_type": "code",
   "execution_count": 14,
   "id": "d6fd2966",
   "metadata": {
    "execution": {
     "iopub.execute_input": "2022-08-29T15:55:50.604723Z",
     "iopub.status.busy": "2022-08-29T15:55:50.604288Z",
     "iopub.status.idle": "2022-08-29T15:55:50.612099Z",
     "shell.execute_reply": "2022-08-29T15:55:50.611154Z"
    },
    "papermill": {
     "duration": 0.022587,
     "end_time": "2022-08-29T15:55:50.614167",
     "exception": false,
     "start_time": "2022-08-29T15:55:50.591580",
     "status": "completed"
    },
    "tags": []
   },
   "outputs": [
    {
     "data": {
      "application/javascript": [
       "parent.postMessage({\"jupyterEvent\": \"custom.exercise_interaction\", \"data\": {\"interactionType\": 3, \"questionType\": 4, \"questionId\": \"4.2_ThinkAvila\", \"learnToolsVersion\": \"0.3.4\", \"valueTowardsCompletion\": 0.0, \"failureMessage\": \"\", \"exceptionClass\": \"\", \"trace\": \"\", \"outcomeType\": 4}}, \"*\")"
      ],
      "text/plain": [
       "<IPython.core.display.Javascript object>"
      ]
     },
     "metadata": {},
     "output_type": "display_data"
    },
    {
     "data": {
      "text/markdown": [
       "<span style=\"color:#33cc99\">Solution:</span> The line chart generally dips to relatively low values around the early part of each year (in December and January), and reaches its highest values in the middle of the year (especially around May and June).  Thus, Avila Adobe usually gets more visitors in March-August (or the spring and summer months).  With this in mind, Avila Adobe could definitely benefit from hiring more seasonal employees to help with the extra work in March-August (the spring and summer)!"
      ],
      "text/plain": [
       "Solution: The line chart generally dips to relatively low values around the early part of each year (in December and January), and reaches its highest values in the middle of the year (especially around May and June).  Thus, Avila Adobe usually gets more visitors in March-August (or the spring and summer months).  With this in mind, Avila Adobe could definitely benefit from hiring more seasonal employees to help with the extra work in March-August (the spring and summer)!"
      ]
     },
     "metadata": {},
     "output_type": "display_data"
    }
   ],
   "source": [
    "# Check your answer (Run this code cell to receive credit!)\n",
    "step_4.b.solution()"
   ]
  },
  {
   "cell_type": "markdown",
   "id": "2d215779",
   "metadata": {
    "papermill": {
     "duration": 0.010842,
     "end_time": "2022-08-29T15:55:50.636052",
     "exception": false,
     "start_time": "2022-08-29T15:55:50.625210",
     "status": "completed"
    },
    "tags": []
   },
   "source": [
    "# Keep going\n",
    "\n",
    "Move on to learn about **[bar charts and heatmaps](https://www.kaggle.com/alexisbcook/bar-charts-and-heatmaps)** with a new dataset!"
   ]
  },
  {
   "cell_type": "markdown",
   "id": "2516c3f7",
   "metadata": {
    "papermill": {
     "duration": 0.011122,
     "end_time": "2022-08-29T15:55:50.658747",
     "exception": false,
     "start_time": "2022-08-29T15:55:50.647625",
     "status": "completed"
    },
    "tags": []
   },
   "source": [
    "---\n",
    "\n",
    "\n",
    "\n",
    "\n",
    "*Have questions or comments? Visit the [course discussion forum](https://www.kaggle.com/learn/data-visualization/discussion) to chat with other learners.*"
   ]
  }
 ],
 "metadata": {
  "kernelspec": {
   "display_name": "Python 3",
   "language": "python",
   "name": "python3"
  },
  "language_info": {
   "codemirror_mode": {
    "name": "ipython",
    "version": 3
   },
   "file_extension": ".py",
   "mimetype": "text/x-python",
   "name": "python",
   "nbconvert_exporter": "python",
   "pygments_lexer": "ipython3",
   "version": "3.7.12"
  },
  "papermill": {
   "default_parameters": {},
   "duration": 13.984004,
   "end_time": "2022-08-29T15:55:51.494547",
   "environment_variables": {},
   "exception": null,
   "input_path": "__notebook__.ipynb",
   "output_path": "__notebook__.ipynb",
   "parameters": {},
   "start_time": "2022-08-29T15:55:37.510543",
   "version": "2.3.4"
  }
 },
 "nbformat": 4,
 "nbformat_minor": 5
}
