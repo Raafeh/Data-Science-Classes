{
 "cells": [
  {
   "cell_type": "markdown",
   "id": "81ba5081",
   "metadata": {
    "papermill": {
     "duration": 0.006773,
     "end_time": "2022-08-28T15:15:59.968454",
     "exception": false,
     "start_time": "2022-08-28T15:15:59.961681",
     "status": "completed"
    },
    "tags": []
   },
   "source": [
    "**This notebook is an exercise in the [Data Cleaning](https://www.kaggle.com/learn/data-cleaning) course.  You can reference the tutorial at [this link](https://www.kaggle.com/alexisbcook/character-encodings).**\n",
    "\n",
    "---\n"
   ]
  },
  {
   "cell_type": "markdown",
   "id": "15b89e14",
   "metadata": {
    "papermill": {
     "duration": 0.004276,
     "end_time": "2022-08-28T15:15:59.977633",
     "exception": false,
     "start_time": "2022-08-28T15:15:59.973357",
     "status": "completed"
    },
    "tags": []
   },
   "source": [
    "In this exercise, you'll apply what you learned in the **Character encodings** tutorial.\n",
    "\n",
    "# Setup\n",
    "\n",
    "The questions below will give you feedback on your work. Run the following cell to set up the feedback system."
   ]
  },
  {
   "cell_type": "code",
   "execution_count": 1,
   "id": "ab84a9db",
   "metadata": {
    "execution": {
     "iopub.execute_input": "2022-08-28T15:15:59.989696Z",
     "iopub.status.busy": "2022-08-28T15:15:59.988710Z",
     "iopub.status.idle": "2022-08-28T15:16:00.087812Z",
     "shell.execute_reply": "2022-08-28T15:16:00.086534Z"
    },
    "papermill": {
     "duration": 0.109198,
     "end_time": "2022-08-28T15:16:00.091392",
     "exception": false,
     "start_time": "2022-08-28T15:15:59.982194",
     "status": "completed"
    },
    "tags": []
   },
   "outputs": [
    {
     "name": "stdout",
     "output_type": "stream",
     "text": [
      "Setup Complete\n"
     ]
    }
   ],
   "source": [
    "from learntools.core import binder\n",
    "binder.bind(globals())\n",
    "from learntools.data_cleaning.ex4 import *\n",
    "print(\"Setup Complete\")"
   ]
  },
  {
   "cell_type": "markdown",
   "id": "b1811d18",
   "metadata": {
    "papermill": {
     "duration": 0.004608,
     "end_time": "2022-08-28T15:16:00.101841",
     "exception": false,
     "start_time": "2022-08-28T15:16:00.097233",
     "status": "completed"
    },
    "tags": []
   },
   "source": [
    "# Get our environment set up\n",
    "\n",
    "The first thing we'll need to do is load in the libraries we'll be using."
   ]
  },
  {
   "cell_type": "code",
   "execution_count": 2,
   "id": "44561bbe",
   "metadata": {
    "execution": {
     "iopub.execute_input": "2022-08-28T15:16:00.113858Z",
     "iopub.status.busy": "2022-08-28T15:16:00.113054Z",
     "iopub.status.idle": "2022-08-28T15:16:00.120540Z",
     "shell.execute_reply": "2022-08-28T15:16:00.118918Z"
    },
    "papermill": {
     "duration": 0.016793,
     "end_time": "2022-08-28T15:16:00.123481",
     "exception": false,
     "start_time": "2022-08-28T15:16:00.106688",
     "status": "completed"
    },
    "tags": []
   },
   "outputs": [],
   "source": [
    "# modules we'll use\n",
    "import pandas as pd\n",
    "import numpy as np\n",
    "\n",
    "# helpful character encoding module\n",
    "import chardet\n",
    "\n",
    "# set seed for reproducibility\n",
    "np.random.seed(0)"
   ]
  },
  {
   "cell_type": "markdown",
   "id": "8212a9cb",
   "metadata": {
    "papermill": {
     "duration": 0.004506,
     "end_time": "2022-08-28T15:16:00.132941",
     "exception": false,
     "start_time": "2022-08-28T15:16:00.128435",
     "status": "completed"
    },
    "tags": []
   },
   "source": [
    "# 1) What are encodings?\n",
    "\n",
    "You're working with a dataset composed of bytes.  Run the code cell below to print a sample entry."
   ]
  },
  {
   "cell_type": "code",
   "execution_count": 3,
   "id": "75be9731",
   "metadata": {
    "execution": {
     "iopub.execute_input": "2022-08-28T15:16:00.144951Z",
     "iopub.status.busy": "2022-08-28T15:16:00.144162Z",
     "iopub.status.idle": "2022-08-28T15:16:00.158416Z",
     "shell.execute_reply": "2022-08-28T15:16:00.149491Z"
    },
    "papermill": {
     "duration": 0.023327,
     "end_time": "2022-08-28T15:16:00.161059",
     "exception": false,
     "start_time": "2022-08-28T15:16:00.137732",
     "status": "completed"
    },
    "tags": []
   },
   "outputs": [
    {
     "name": "stdout",
     "output_type": "stream",
     "text": [
      "b'\\xa7A\\xa6n'\n",
      "data type: <class 'bytes'>\n"
     ]
    }
   ],
   "source": [
    "sample_entry = b'\\xa7A\\xa6n'\n",
    "print(sample_entry)\n",
    "print('data type:', type(sample_entry))"
   ]
  },
  {
   "cell_type": "markdown",
   "id": "c007ee71",
   "metadata": {
    "papermill": {
     "duration": 0.004535,
     "end_time": "2022-08-28T15:16:00.170555",
     "exception": false,
     "start_time": "2022-08-28T15:16:00.166020",
     "status": "completed"
    },
    "tags": []
   },
   "source": [
    "You notice that it doesn't use the standard UTF-8 encoding. \n",
    "\n",
    "Use the next code cell to create a variable `new_entry` that changes the encoding from `\"big5-tw\"` to `\"utf-8\"`.  `new_entry` should have the bytes datatype."
   ]
  },
  {
   "cell_type": "code",
   "execution_count": 4,
   "id": "e9968c00",
   "metadata": {
    "execution": {
     "iopub.execute_input": "2022-08-28T15:16:00.182090Z",
     "iopub.status.busy": "2022-08-28T15:16:00.181674Z",
     "iopub.status.idle": "2022-08-28T15:16:00.193644Z",
     "shell.execute_reply": "2022-08-28T15:16:00.192438Z"
    },
    "papermill": {
     "duration": 0.020796,
     "end_time": "2022-08-28T15:16:00.196115",
     "exception": false,
     "start_time": "2022-08-28T15:16:00.175319",
     "status": "completed"
    },
    "tags": []
   },
   "outputs": [
    {
     "data": {
      "application/javascript": [
       "parent.postMessage({\"jupyterEvent\": \"custom.exercise_interaction\", \"data\": {\"outcomeType\": 1, \"valueTowardsCompletion\": 0.3333333333333333, \"interactionType\": 1, \"questionType\": 1, \"questionId\": \"1_EncodingsIntro\", \"learnToolsVersion\": \"0.3.4\", \"failureMessage\": \"\", \"exceptionClass\": \"\", \"trace\": \"\"}}, \"*\")"
      ],
      "text/plain": [
       "<IPython.core.display.Javascript object>"
      ]
     },
     "metadata": {},
     "output_type": "display_data"
    },
    {
     "data": {
      "text/markdown": [
       "<span style=\"color:#33cc33\">Correct</span>"
      ],
      "text/plain": [
       "Correct"
      ]
     },
     "metadata": {},
     "output_type": "display_data"
    }
   ],
   "source": [
    "new_entry = sample_entry.decode('big5-tw').encode()\n",
    "\n",
    "# Check your answer\n",
    "q1.check()"
   ]
  },
  {
   "cell_type": "code",
   "execution_count": 5,
   "id": "f4e30763",
   "metadata": {
    "execution": {
     "iopub.execute_input": "2022-08-28T15:16:00.208143Z",
     "iopub.status.busy": "2022-08-28T15:16:00.207758Z",
     "iopub.status.idle": "2022-08-28T15:16:00.221531Z",
     "shell.execute_reply": "2022-08-28T15:16:00.220316Z"
    },
    "papermill": {
     "duration": 0.022472,
     "end_time": "2022-08-28T15:16:00.223865",
     "exception": false,
     "start_time": "2022-08-28T15:16:00.201393",
     "status": "completed"
    },
    "tags": []
   },
   "outputs": [
    {
     "data": {
      "application/javascript": [
       "parent.postMessage({\"jupyterEvent\": \"custom.exercise_interaction\", \"data\": {\"interactionType\": 2, \"questionType\": 1, \"questionId\": \"1_EncodingsIntro\", \"learnToolsVersion\": \"0.3.4\", \"valueTowardsCompletion\": 0.0, \"failureMessage\": \"\", \"exceptionClass\": \"\", \"trace\": \"\", \"outcomeType\": 4}}, \"*\")"
      ],
      "text/plain": [
       "<IPython.core.display.Javascript object>"
      ]
     },
     "metadata": {},
     "output_type": "display_data"
    },
    {
     "data": {
      "text/markdown": [
       "<span style=\"color:#3366cc\">Hint:</span> Try using `.decode()` to get the string, then `.encode()` to get the bytes representation, encoded in UTF-8."
      ],
      "text/plain": [
       "Hint: Try using `.decode()` to get the string, then `.encode()` to get the bytes representation, encoded in UTF-8."
      ]
     },
     "metadata": {},
     "output_type": "display_data"
    },
    {
     "data": {
      "application/javascript": [
       "parent.postMessage({\"jupyterEvent\": \"custom.exercise_interaction\", \"data\": {\"interactionType\": 3, \"questionType\": 1, \"questionId\": \"1_EncodingsIntro\", \"learnToolsVersion\": \"0.3.4\", \"valueTowardsCompletion\": 0.0, \"failureMessage\": \"\", \"exceptionClass\": \"\", \"trace\": \"\", \"outcomeType\": 4}}, \"*\")"
      ],
      "text/plain": [
       "<IPython.core.display.Javascript object>"
      ]
     },
     "metadata": {},
     "output_type": "display_data"
    },
    {
     "data": {
      "text/markdown": [
       "<span style=\"color:#33cc99\">Solution:</span> \n",
       "```python\n",
       "before = sample_entry.decode(\"big5-tw\")\n",
       "new_entry = before.encode()\n",
       "\n",
       "```"
      ],
      "text/plain": [
       "Solution: \n",
       "```python\n",
       "before = sample_entry.decode(\"big5-tw\")\n",
       "new_entry = before.encode()\n",
       "\n",
       "```"
      ]
     },
     "metadata": {},
     "output_type": "display_data"
    }
   ],
   "source": [
    "# Lines below will give you a hint or solution code\n",
    "q1.hint()\n",
    "q1.solution()"
   ]
  },
  {
   "cell_type": "markdown",
   "id": "ce64cea5",
   "metadata": {
    "papermill": {
     "duration": 0.005203,
     "end_time": "2022-08-28T15:16:00.234882",
     "exception": false,
     "start_time": "2022-08-28T15:16:00.229679",
     "status": "completed"
    },
    "tags": []
   },
   "source": [
    "# 2) Reading in files with encoding problems\n",
    "\n",
    "Use the code cell below to read in this file at path `\"../input/fatal-police-shootings-in-the-us/PoliceKillingsUS.csv\"`.  \n",
    "\n",
    "Figure out what the correct encoding should be and read in the file to a DataFrame `police_killings`."
   ]
  },
  {
   "cell_type": "code",
   "execution_count": 6,
   "id": "a39e5e34",
   "metadata": {
    "execution": {
     "iopub.execute_input": "2022-08-28T15:16:00.247596Z",
     "iopub.status.busy": "2022-08-28T15:16:00.247207Z",
     "iopub.status.idle": "2022-08-28T15:16:00.273056Z",
     "shell.execute_reply": "2022-08-28T15:16:00.271972Z"
    },
    "papermill": {
     "duration": 0.035597,
     "end_time": "2022-08-28T15:16:00.275946",
     "exception": false,
     "start_time": "2022-08-28T15:16:00.240349",
     "status": "completed"
    },
    "tags": []
   },
   "outputs": [
    {
     "data": {
      "application/javascript": [
       "parent.postMessage({\"jupyterEvent\": \"custom.exercise_interaction\", \"data\": {\"outcomeType\": 1, \"valueTowardsCompletion\": 0.3333333333333333, \"interactionType\": 1, \"questionType\": 1, \"questionId\": \"2_ReadIn\", \"learnToolsVersion\": \"0.3.4\", \"failureMessage\": \"\", \"exceptionClass\": \"\", \"trace\": \"\"}}, \"*\")"
      ],
      "text/plain": [
       "<IPython.core.display.Javascript object>"
      ]
     },
     "metadata": {},
     "output_type": "display_data"
    },
    {
     "data": {
      "text/markdown": [
       "<span style=\"color:#33cc33\">Correct</span>"
      ],
      "text/plain": [
       "Correct"
      ]
     },
     "metadata": {},
     "output_type": "display_data"
    }
   ],
   "source": [
    "# TODO: Load in the DataFrame correctly.\n",
    "\n",
    "police_killings = pd.read_csv(\"../input/fatal-police-shootings-in-the-us/PoliceKillingsUS.csv\",encoding='Windows-1252')\n",
    "\n",
    "# Check your answer\n",
    "q2.check()"
   ]
  },
  {
   "cell_type": "markdown",
   "id": "7226501b",
   "metadata": {
    "papermill": {
     "duration": 0.006009,
     "end_time": "2022-08-28T15:16:00.288126",
     "exception": false,
     "start_time": "2022-08-28T15:16:00.282117",
     "status": "completed"
    },
    "tags": []
   },
   "source": [
    "Feel free to use any additional code cells for supplemental work.  To get credit for finishing this question, you'll need to run `q2.check()` and get a result of **Correct**."
   ]
  },
  {
   "cell_type": "code",
   "execution_count": 7,
   "id": "f698e3ca",
   "metadata": {
    "execution": {
     "iopub.execute_input": "2022-08-28T15:16:00.302423Z",
     "iopub.status.busy": "2022-08-28T15:16:00.301983Z",
     "iopub.status.idle": "2022-08-28T15:16:00.318693Z",
     "shell.execute_reply": "2022-08-28T15:16:00.317255Z"
    },
    "papermill": {
     "duration": 0.026765,
     "end_time": "2022-08-28T15:16:00.321168",
     "exception": false,
     "start_time": "2022-08-28T15:16:00.294403",
     "status": "completed"
    },
    "tags": []
   },
   "outputs": [
    {
     "name": "stdout",
     "output_type": "stream",
     "text": [
      "{'encoding': 'ascii', 'confidence': 1.0, 'language': ''}\n"
     ]
    }
   ],
   "source": [
    "with open(\"../input/fatal-police-shootings-in-the-us/PoliceKillingsUS.csv\",'rb')as sam:\n",
    "    result=chardet.detect(sam.read(10000))\n",
    "print(result)\n",
    "    # (Optional) Use this code cell for any additional work."
   ]
  },
  {
   "cell_type": "code",
   "execution_count": 8,
   "id": "604747ce",
   "metadata": {
    "execution": {
     "iopub.execute_input": "2022-08-28T15:16:00.335113Z",
     "iopub.status.busy": "2022-08-28T15:16:00.334335Z",
     "iopub.status.idle": "2022-08-28T15:16:00.343181Z",
     "shell.execute_reply": "2022-08-28T15:16:00.342010Z"
    },
    "papermill": {
     "duration": 0.018333,
     "end_time": "2022-08-28T15:16:00.345544",
     "exception": false,
     "start_time": "2022-08-28T15:16:00.327211",
     "status": "completed"
    },
    "tags": []
   },
   "outputs": [
    {
     "data": {
      "application/javascript": [
       "parent.postMessage({\"jupyterEvent\": \"custom.exercise_interaction\", \"data\": {\"interactionType\": 3, \"questionType\": 1, \"questionId\": \"2_ReadIn\", \"learnToolsVersion\": \"0.3.4\", \"valueTowardsCompletion\": 0.0, \"failureMessage\": \"\", \"exceptionClass\": \"\", \"trace\": \"\", \"outcomeType\": 4}}, \"*\")"
      ],
      "text/plain": [
       "<IPython.core.display.Javascript object>"
      ]
     },
     "metadata": {},
     "output_type": "display_data"
    },
    {
     "data": {
      "text/markdown": [
       "<span style=\"color:#33cc99\">Solution:</span> \n",
       "```python\n",
       "police_killings = pd.read_csv(\"../input/fatal-police-shootings-in-the-us/PoliceKillingsUS.csv\", encoding='Windows-1252')\n",
       "\n",
       "```"
      ],
      "text/plain": [
       "Solution: \n",
       "```python\n",
       "police_killings = pd.read_csv(\"../input/fatal-police-shootings-in-the-us/PoliceKillingsUS.csv\", encoding='Windows-1252')\n",
       "\n",
       "```"
      ]
     },
     "metadata": {},
     "output_type": "display_data"
    }
   ],
   "source": [
    "# Lines below will give you a hint or solution code\n",
    "#q2.hint()\n",
    "q2.solution()"
   ]
  },
  {
   "cell_type": "markdown",
   "id": "1d22ae2f",
   "metadata": {
    "papermill": {
     "duration": 0.005801,
     "end_time": "2022-08-28T15:16:00.357685",
     "exception": false,
     "start_time": "2022-08-28T15:16:00.351884",
     "status": "completed"
    },
    "tags": []
   },
   "source": [
    "# 3) Saving your files with UTF-8 encoding\n",
    "\n",
    "Save a version of the police killings dataset to CSV with UTF-8 encoding.  Your answer will be marked correct after saving this file.  \n",
    "\n",
    "Note: When using the `to_csv()` method, supply only the name of the file (e.g., `\"my_file.csv\"`).  This saves the file at the filepath `\"/kaggle/working/my_file.csv\"`."
   ]
  },
  {
   "cell_type": "code",
   "execution_count": 9,
   "id": "cb43931b",
   "metadata": {
    "execution": {
     "iopub.execute_input": "2022-08-28T15:16:00.372882Z",
     "iopub.status.busy": "2022-08-28T15:16:00.372452Z",
     "iopub.status.idle": "2022-08-28T15:16:00.412172Z",
     "shell.execute_reply": "2022-08-28T15:16:00.410794Z"
    },
    "papermill": {
     "duration": 0.050973,
     "end_time": "2022-08-28T15:16:00.414867",
     "exception": false,
     "start_time": "2022-08-28T15:16:00.363894",
     "status": "completed"
    },
    "tags": []
   },
   "outputs": [
    {
     "data": {
      "application/javascript": [
       "parent.postMessage({\"jupyterEvent\": \"custom.exercise_interaction\", \"data\": {\"outcomeType\": 1, \"valueTowardsCompletion\": 0.3333333333333333, \"interactionType\": 1, \"questionType\": 2, \"questionId\": \"3_SaveCSV\", \"learnToolsVersion\": \"0.3.4\", \"failureMessage\": \"\", \"exceptionClass\": \"\", \"trace\": \"\"}}, \"*\")"
      ],
      "text/plain": [
       "<IPython.core.display.Javascript object>"
      ]
     },
     "metadata": {},
     "output_type": "display_data"
    },
    {
     "data": {
      "text/markdown": [
       "<span style=\"color:#33cc33\">Correct</span>"
      ],
      "text/plain": [
       "Correct"
      ]
     },
     "metadata": {},
     "output_type": "display_data"
    }
   ],
   "source": [
    "# TODO: Save the police killings dataset to CSV\n",
    "____\n",
    "police_killings.to_csv(\"my_file.csv\")\n",
    "# Check your answer\n",
    "q3.check()"
   ]
  },
  {
   "cell_type": "code",
   "execution_count": 10,
   "id": "7fdb6ddc",
   "metadata": {
    "execution": {
     "iopub.execute_input": "2022-08-28T15:16:00.429847Z",
     "iopub.status.busy": "2022-08-28T15:16:00.429455Z",
     "iopub.status.idle": "2022-08-28T15:16:00.437766Z",
     "shell.execute_reply": "2022-08-28T15:16:00.436703Z"
    },
    "papermill": {
     "duration": 0.018336,
     "end_time": "2022-08-28T15:16:00.439847",
     "exception": false,
     "start_time": "2022-08-28T15:16:00.421511",
     "status": "completed"
    },
    "tags": []
   },
   "outputs": [
    {
     "data": {
      "application/javascript": [
       "parent.postMessage({\"jupyterEvent\": \"custom.exercise_interaction\", \"data\": {\"interactionType\": 3, \"questionType\": 2, \"questionId\": \"3_SaveCSV\", \"learnToolsVersion\": \"0.3.4\", \"valueTowardsCompletion\": 0.0, \"failureMessage\": \"\", \"exceptionClass\": \"\", \"trace\": \"\", \"outcomeType\": 4}}, \"*\")"
      ],
      "text/plain": [
       "<IPython.core.display.Javascript object>"
      ]
     },
     "metadata": {},
     "output_type": "display_data"
    },
    {
     "data": {
      "text/markdown": [
       "<span style=\"color:#33cc99\">Solution:</span> \n",
       "```python\n",
       "\n",
       "police_killings.to_csv(\"my_file.csv\")\n",
       "\n",
       "```"
      ],
      "text/plain": [
       "Solution: \n",
       "```python\n",
       "\n",
       "police_killings.to_csv(\"my_file.csv\")\n",
       "\n",
       "```"
      ]
     },
     "metadata": {},
     "output_type": "display_data"
    }
   ],
   "source": [
    "# Lines below will give you a hint or solution code\n",
    "#q3.hint()\n",
    "q3.solution()"
   ]
  },
  {
   "cell_type": "markdown",
   "id": "ebfed33a",
   "metadata": {
    "papermill": {
     "duration": 0.00626,
     "end_time": "2022-08-28T15:16:00.452638",
     "exception": false,
     "start_time": "2022-08-28T15:16:00.446378",
     "status": "completed"
    },
    "tags": []
   },
   "source": [
    "# (Optional) More practice\n",
    "\n",
    "Check out [this dataset of files in different character encodings](https://www.kaggle.com/rtatman/character-encoding-examples). Can you read in all the files with their original encodings and them save them out as UTF-8 files?\n",
    "\n",
    "If you have a file that's in UTF-8 but has just a couple of weird-looking characters in it, you can try out the [ftfy module](https://ftfy.readthedocs.io/en/latest/#) and see if it helps. \n",
    "\n",
    "# Keep going\n",
    "\n",
    "In the final lesson, learn how to [**clean up inconsistent text entries**](https://www.kaggle.com/alexisbcook/inconsistent-data-entry) in your dataset."
   ]
  },
  {
   "cell_type": "markdown",
   "id": "b3e2d818",
   "metadata": {
    "papermill": {
     "duration": 0.006423,
     "end_time": "2022-08-28T15:16:00.465828",
     "exception": false,
     "start_time": "2022-08-28T15:16:00.459405",
     "status": "completed"
    },
    "tags": []
   },
   "source": [
    "---\n",
    "\n",
    "\n",
    "\n",
    "\n",
    "*Have questions or comments? Visit the [course discussion forum](https://www.kaggle.com/learn/data-cleaning/discussion) to chat with other learners.*"
   ]
  }
 ],
 "metadata": {
  "kernelspec": {
   "display_name": "Python 3",
   "language": "python",
   "name": "python3"
  },
  "language_info": {
   "codemirror_mode": {
    "name": "ipython",
    "version": 3
   },
   "file_extension": ".py",
   "mimetype": "text/x-python",
   "name": "python",
   "nbconvert_exporter": "python",
   "pygments_lexer": "ipython3",
   "version": "3.7.12"
  },
  "papermill": {
   "default_parameters": {},
   "duration": 10.288552,
   "end_time": "2022-08-28T15:16:01.194748",
   "environment_variables": {},
   "exception": null,
   "input_path": "__notebook__.ipynb",
   "output_path": "__notebook__.ipynb",
   "parameters": {},
   "start_time": "2022-08-28T15:15:50.906196",
   "version": "2.3.4"
  }
 },
 "nbformat": 4,
 "nbformat_minor": 5
}
