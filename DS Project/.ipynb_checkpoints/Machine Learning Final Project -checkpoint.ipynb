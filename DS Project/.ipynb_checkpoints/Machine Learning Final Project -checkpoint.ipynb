{
 "cells": [
  {
   "cell_type": "code",
   "execution_count": 1,
   "id": "38d0e9f5",
   "metadata": {},
   "outputs": [],
   "source": [
    "import pandas as pd\n",
    "import numpy as np\n",
    "import seaborn as sns\n",
    "import matplotlib.pyplot as plt\n",
    "from sklearn import datasets\n",
    "from sklearn.metrics import accuracy_score, confusion_matrix\n",
    "from sklearn.tree import DecisionTreeClassifier\n",
    "from sklearn.linear_model import LogisticRegression\n",
    "from sklearn.model_selection import train_test_split"
   ]
  },
  {
   "cell_type": "code",
   "execution_count": 2,
   "id": "8e68a84c",
   "metadata": {},
   "outputs": [
    {
     "data": {
      "text/html": [
       "<div>\n",
       "<style scoped>\n",
       "    .dataframe tbody tr th:only-of-type {\n",
       "        vertical-align: middle;\n",
       "    }\n",
       "\n",
       "    .dataframe tbody tr th {\n",
       "        vertical-align: top;\n",
       "    }\n",
       "\n",
       "    .dataframe thead th {\n",
       "        text-align: right;\n",
       "    }\n",
       "</style>\n",
       "<table border=\"1\" class=\"dataframe\">\n",
       "  <thead>\n",
       "    <tr style=\"text-align: right;\">\n",
       "      <th></th>\n",
       "      <th>age</th>\n",
       "      <th>sex</th>\n",
       "      <th>cp</th>\n",
       "      <th>trestbps</th>\n",
       "      <th>chol</th>\n",
       "      <th>fbs</th>\n",
       "      <th>restecg</th>\n",
       "      <th>thalach</th>\n",
       "      <th>exang</th>\n",
       "      <th>oldpeak</th>\n",
       "      <th>slope</th>\n",
       "      <th>ca</th>\n",
       "      <th>thal</th>\n",
       "      <th>target</th>\n",
       "    </tr>\n",
       "  </thead>\n",
       "  <tbody>\n",
       "    <tr>\n",
       "      <th>0</th>\n",
       "      <td>52</td>\n",
       "      <td>1</td>\n",
       "      <td>0</td>\n",
       "      <td>125</td>\n",
       "      <td>212</td>\n",
       "      <td>0</td>\n",
       "      <td>1</td>\n",
       "      <td>168</td>\n",
       "      <td>0</td>\n",
       "      <td>1.0</td>\n",
       "      <td>2</td>\n",
       "      <td>2</td>\n",
       "      <td>3</td>\n",
       "      <td>0</td>\n",
       "    </tr>\n",
       "    <tr>\n",
       "      <th>1</th>\n",
       "      <td>53</td>\n",
       "      <td>1</td>\n",
       "      <td>0</td>\n",
       "      <td>140</td>\n",
       "      <td>203</td>\n",
       "      <td>1</td>\n",
       "      <td>0</td>\n",
       "      <td>155</td>\n",
       "      <td>1</td>\n",
       "      <td>3.1</td>\n",
       "      <td>0</td>\n",
       "      <td>0</td>\n",
       "      <td>3</td>\n",
       "      <td>0</td>\n",
       "    </tr>\n",
       "    <tr>\n",
       "      <th>2</th>\n",
       "      <td>70</td>\n",
       "      <td>1</td>\n",
       "      <td>0</td>\n",
       "      <td>145</td>\n",
       "      <td>174</td>\n",
       "      <td>0</td>\n",
       "      <td>1</td>\n",
       "      <td>125</td>\n",
       "      <td>1</td>\n",
       "      <td>2.6</td>\n",
       "      <td>0</td>\n",
       "      <td>0</td>\n",
       "      <td>3</td>\n",
       "      <td>0</td>\n",
       "    </tr>\n",
       "    <tr>\n",
       "      <th>3</th>\n",
       "      <td>61</td>\n",
       "      <td>1</td>\n",
       "      <td>0</td>\n",
       "      <td>148</td>\n",
       "      <td>203</td>\n",
       "      <td>0</td>\n",
       "      <td>1</td>\n",
       "      <td>161</td>\n",
       "      <td>0</td>\n",
       "      <td>0.0</td>\n",
       "      <td>2</td>\n",
       "      <td>1</td>\n",
       "      <td>3</td>\n",
       "      <td>0</td>\n",
       "    </tr>\n",
       "    <tr>\n",
       "      <th>4</th>\n",
       "      <td>62</td>\n",
       "      <td>0</td>\n",
       "      <td>0</td>\n",
       "      <td>138</td>\n",
       "      <td>294</td>\n",
       "      <td>1</td>\n",
       "      <td>1</td>\n",
       "      <td>106</td>\n",
       "      <td>0</td>\n",
       "      <td>1.9</td>\n",
       "      <td>1</td>\n",
       "      <td>3</td>\n",
       "      <td>2</td>\n",
       "      <td>0</td>\n",
       "    </tr>\n",
       "  </tbody>\n",
       "</table>\n",
       "</div>"
      ],
      "text/plain": [
       "   age  sex  cp  trestbps  chol  fbs  restecg  thalach  exang  oldpeak  slope  \\\n",
       "0   52    1   0       125   212    0        1      168      0      1.0      2   \n",
       "1   53    1   0       140   203    1        0      155      1      3.1      0   \n",
       "2   70    1   0       145   174    0        1      125      1      2.6      0   \n",
       "3   61    1   0       148   203    0        1      161      0      0.0      2   \n",
       "4   62    0   0       138   294    1        1      106      0      1.9      1   \n",
       "\n",
       "   ca  thal  target  \n",
       "0   2     3       0  \n",
       "1   0     3       0  \n",
       "2   0     3       0  \n",
       "3   1     3       0  \n",
       "4   3     2       0  "
      ]
     },
     "execution_count": 2,
     "metadata": {},
     "output_type": "execute_result"
    }
   ],
   "source": [
    "df1= pd.read_csv('heart.csv')\n",
    "df1.head()\n"
   ]
  },
  {
   "cell_type": "code",
   "execution_count": 3,
   "id": "d62b1f6c",
   "metadata": {},
   "outputs": [],
   "source": [
    "X=df1.drop('target',axis=1)\n",
    "Y=df1['target']"
   ]
  },
  {
   "cell_type": "code",
   "execution_count": 4,
   "id": "dc8720c0",
   "metadata": {},
   "outputs": [],
   "source": [
    "t_size=0.2\n",
    "x_train,x_test,y_train,y_test=train_test_split(X,Y,test_size=t_size)"
   ]
  },
  {
   "cell_type": "code",
   "execution_count": 6,
   "id": "7ca0ff93",
   "metadata": {},
   "outputs": [
    {
     "name": "stdout",
     "output_type": "stream",
     "text": [
      "The accuracy of my Logistic Regression model is 85.85365853658537\n"
     ]
    }
   ],
   "source": [
    "rang=list(range(1,10))\n",
    "for i in rang:\n",
    "    LR=LogisticRegression(max_iter=1000)\n",
    "    LR.fit(x_train,y_train)\n",
    "    y_pred=LR.predict(x_test)\n",
    "    acc=accuracy_score(y_test,y_pred)*100\n",
    "print (\"The accuracy of my Logistic Regression model is\",acc)\n",
    "    "
   ]
  },
  {
   "cell_type": "code",
   "execution_count": 8,
   "id": "47e1e00a",
   "metadata": {},
   "outputs": [],
   "source": [
    "import tensorflow as tf\n",
    "from tensorflow import keras\n",
    "from keras.models import Sequential\n",
    "from keras.layers import Dense\n"
   ]
  },
  {
   "cell_type": "code",
   "execution_count": 10,
   "id": "aad9b924",
   "metadata": {},
   "outputs": [],
   "source": [
    "LR=Sequential([\n",
    "    Dense(40,input_dim=13,activation='relu'),\n",
    "    Dense(39,activation='relu'),\n",
    "    Dense(38,activation='relu'),\n",
    "    Dense(37,activation='relu'),\n",
    "    Dense(36,activation='relu'),\n",
    "    Dense(15,activation='relu'),\n",
    "    Dense(14,activation='relu'),\n",
    "    Dense(25,activation='relu'),\n",
    "    Dense(7,activation='relu'),\n",
    "    Dense(1,activation='sigmoid')\n",
    "])"
   ]
  },
  {
   "cell_type": "code",
   "execution_count": 11,
   "id": "a5e2b6f7",
   "metadata": {},
   "outputs": [
    {
     "name": "stdout",
     "output_type": "stream",
     "text": [
      "Model: \"sequential_1\"\n",
      "_________________________________________________________________\n",
      " Layer (type)                Output Shape              Param #   \n",
      "=================================================================\n",
      " dense_5 (Dense)             (None, 40)                560       \n",
      "                                                                 \n",
      " dense_6 (Dense)             (None, 39)                1599      \n",
      "                                                                 \n",
      " dense_7 (Dense)             (None, 38)                1520      \n",
      "                                                                 \n",
      " dense_8 (Dense)             (None, 37)                1443      \n",
      "                                                                 \n",
      " dense_9 (Dense)             (None, 36)                1368      \n",
      "                                                                 \n",
      " dense_10 (Dense)            (None, 15)                555       \n",
      "                                                                 \n",
      " dense_11 (Dense)            (None, 14)                224       \n",
      "                                                                 \n",
      " dense_12 (Dense)            (None, 25)                375       \n",
      "                                                                 \n",
      " dense_13 (Dense)            (None, 7)                 182       \n",
      "                                                                 \n",
      " dense_14 (Dense)            (None, 1)                 8         \n",
      "                                                                 \n",
      "=================================================================\n",
      "Total params: 7,834\n",
      "Trainable params: 7,834\n",
      "Non-trainable params: 0\n",
      "_________________________________________________________________\n"
     ]
    }
   ],
   "source": [
    "LR.compile(optimizer=keras.optimizers.Adam(),loss='binary_crossentropy',\n",
    "           metrics=['accuracy'])\n",
    "LR.summary()"
   ]
  },
  {
   "cell_type": "code",
   "execution_count": 23,
   "id": "8dab4e42",
   "metadata": {},
   "outputs": [
    {
     "name": "stdout",
     "output_type": "stream",
     "text": [
      "Epoch 1/10\n",
      "26/26 [==============================] - 0s 3ms/step - loss: 0.2803 - accuracy: 0.8598\n",
      "Epoch 2/10\n",
      "26/26 [==============================] - 0s 4ms/step - loss: 0.2718 - accuracy: 0.8610\n",
      "Epoch 3/10\n",
      "26/26 [==============================] - 0s 2ms/step - loss: 0.2908 - accuracy: 0.8524\n",
      "Epoch 4/10\n",
      "26/26 [==============================] - 0s 3ms/step - loss: 0.2767 - accuracy: 0.8744\n",
      "Epoch 5/10\n",
      "26/26 [==============================] - 0s 3ms/step - loss: 0.2447 - accuracy: 0.8732\n",
      "Epoch 6/10\n",
      "26/26 [==============================] - 0s 3ms/step - loss: 0.2289 - accuracy: 0.8866\n",
      "Epoch 7/10\n",
      "26/26 [==============================] - 0s 6ms/step - loss: 0.2578 - accuracy: 0.8732\n",
      "Epoch 8/10\n",
      "26/26 [==============================] - 0s 7ms/step - loss: 0.2358 - accuracy: 0.8841\n",
      "Epoch 9/10\n",
      "26/26 [==============================] - 0s 3ms/step - loss: 0.2258 - accuracy: 0.9024\n",
      "Epoch 10/10\n",
      "26/26 [==============================] - 0s 7ms/step - loss: 0.2246 - accuracy: 0.8854\n",
      "7/7 [==============================] - 0s 2ms/step - loss: 0.2555 - accuracy: 0.9024\n",
      "Loss= 25.548046827316284\n",
      "Accuracy= 90.24389982223511\n"
     ]
    }
   ],
   "source": [
    "LR.fit(x_train,y_train,epochs=10)\n",
    "loss,accuracy=LR.evaluate(x_test,y_test)\n",
    "print(\"Loss=\",loss*100)\n",
    "print(\"Accuracy=\",accuracy*100)"
   ]
  },
  {
   "cell_type": "code",
   "execution_count": 24,
   "id": "581adb83",
   "metadata": {},
   "outputs": [
    {
     "name": "stdout",
     "output_type": "stream",
     "text": [
      "[[79 20]\n",
      " [ 9 97]]\n"
     ]
    }
   ],
   "source": [
    "c_matrix=confusion_matrix(y_test,y_pred)\n",
    "print(c_matrix)"
   ]
  },
  {
   "cell_type": "code",
   "execution_count": 27,
   "id": "5de6e0b1",
   "metadata": {},
   "outputs": [
    {
     "data": {
      "image/png": "[encoded data removed]",
      "text/plain": [
       "<Figure size 432x288 with 2 Axes>"
      ]
     },
     "metadata": {
      "needs_background": "light"
     },
     "output_type": "display_data"
    }
   ],
   "source": [
    "sns.heatmap(c_matrix,annot=True,linewidth=2,cmap='Blues')\n",
    "plt.show()"
   ]
  },
  {
   "cell_type": "code",
   "execution_count": null,
   "id": "96e77465",
   "metadata": {},
   "outputs": [],
   "source": []
  }
 ],
 "metadata": {
  "kernelspec": {
   "display_name": "Python 3 (ipykernel)",
   "language": "python",
   "name": "python3"
  },
  "language_info": {
   "codemirror_mode": {
    "name": "ipython",
    "version": 3
   },
   "file_extension": ".py",
   "mimetype": "text/x-python",
   "name": "python",
   "nbconvert_exporter": "python",
   "pygments_lexer": "ipython3",
   "version": "3.10.0"
  }
 },
 "nbformat": 4,
 "nbformat_minor": 5
}
