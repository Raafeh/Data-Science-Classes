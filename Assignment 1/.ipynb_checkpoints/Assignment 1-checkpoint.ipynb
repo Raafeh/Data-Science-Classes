{
 "cells": [
  {
   "cell_type": "code",
   "execution_count": 1,
   "id": "dea063cf",
   "metadata": {},
   "outputs": [
    {
     "name": "stdout",
     "output_type": "stream",
     "text": [
      "Twinkle,twinkle,little,star,\n",
      "     How I wonder what you are!\n",
      "             Up above the world so high,\n",
      "             Like a diamon in the sky.\n",
      "Twinkle,twinkle,little,star,\n",
      "     How I wonder what you are!\n"
     ]
    }
   ],
   "source": [
    "print(\"Twinkle,twinkle,little,star,\")\n",
    "print(\"     How I wonder what you are!\")\n",
    "print(\"             Up above the world so high,\")\n",
    "print(\"             Like a diamon in the sky.\")\n",
    "print(\"Twinkle,twinkle,little,star,\")\n",
    "print(\"     How I wonder what you are!\")"
   ]
  },
  {
   "cell_type": "code",
   "execution_count": 2,
   "id": "ba9304ae",
   "metadata": {},
   "outputs": [
    {
     "name": "stdout",
     "output_type": "stream",
     "text": [
      "Current Python version is: 3.10.0 (tags/v3.10.0:b494f59, Oct  4 2021, 19:00:18) [MSC v.1929 64 bit (AMD64)]\n"
     ]
    }
   ],
   "source": [
    "import sys \n",
    "print(\"Current Python version is:\", sys.version)"
   ]
  },
  {
   "cell_type": "code",
   "execution_count": 3,
   "id": "b2916ccc",
   "metadata": {},
   "outputs": [
    {
     "name": "stdout",
     "output_type": "stream",
     "text": [
      "Current date and time is:\n",
      "\n",
      "2022-01-01 14:48:43.772675\n"
     ]
    }
   ],
   "source": [
    "import datetime\n",
    "print(\"Current date and time is:\\n\")\n",
    "print(datetime.datetime.now())"
   ]
  },
  {
   "cell_type": "code",
   "execution_count": 4,
   "id": "5a8593f9",
   "metadata": {},
   "outputs": [
    {
     "name": "stdout",
     "output_type": "stream",
     "text": [
      "Enter radius of circle:3\n",
      "A=pi*(r^2)\n",
      "Area= 28.278\n"
     ]
    }
   ],
   "source": [
    "pi = 3.142\n",
    "r = int(input(\"Enter radius of circle:\"))\n",
    "\n",
    "Area = pi*(r**2)\n",
    "print(\"A=pi*(r^2)\")\n",
    "\n",
    "print(\"Area=\",Area)"
   ]
  },
  {
   "cell_type": "code",
   "execution_count": 5,
   "id": "34d0839f",
   "metadata": {},
   "outputs": [
    {
     "name": "stdout",
     "output_type": "stream",
     "text": [
      "Enter your first name: Raafeh\n",
      "Enter your last name: Sajjad\n",
      "\n",
      "In reverse order\n",
      "\n",
      "Sajjad Raafeh\n"
     ]
    }
   ],
   "source": [
    "firstName = input(\"Enter your first name: \")\n",
    "lastName = input(\"Enter your last name: \")\n",
    "\n",
    "print(\"\\nIn reverse order\\n\")\n",
    "\n",
    "print(lastName,firstName)"
   ]
  },
  {
   "cell_type": "code",
   "execution_count": 6,
   "id": "01174c3b",
   "metadata": {},
   "outputs": [
    {
     "name": "stdout",
     "output_type": "stream",
     "text": [
      "Enter first number: 5\n",
      "Enter second number: 6\n",
      "Sum is: 11\n"
     ]
    }
   ],
   "source": [
    "num1 = int(input(\"Enter first number: \"))\n",
    "num2 = int(input(\"Enter second number: \"))\n",
    "\n",
    "sum = num1+num2\n",
    "\n",
    "print(\"Sum is:\",sum)"
   ]
  }
 ],
 "metadata": {
  "kernelspec": {
   "display_name": "Python 3 (ipykernel)",
   "language": "python",
   "name": "python3"
  },
  "language_info": {
   "codemirror_mode": {
    "name": "ipython",
    "version": 3
   },
   "file_extension": ".py",
   "mimetype": "text/x-python",
   "name": "python",
   "nbconvert_exporter": "python",
   "pygments_lexer": "ipython3",
   "version": "3.10.0"
  }
 },
 "nbformat": 4,
 "nbformat_minor": 5
}
